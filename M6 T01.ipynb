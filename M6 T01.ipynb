{
 "cells": [
  {
   "cell_type": "code",
   "execution_count": 1,
   "id": "7f19137d",
   "metadata": {},
   "outputs": [
    {
     "data": {
      "text/html": [
       "<div>\n",
       "<style scoped>\n",
       "    .dataframe tbody tr th:only-of-type {\n",
       "        vertical-align: middle;\n",
       "    }\n",
       "\n",
       "    .dataframe tbody tr th {\n",
       "        vertical-align: top;\n",
       "    }\n",
       "\n",
       "    .dataframe thead th {\n",
       "        text-align: right;\n",
       "    }\n",
       "</style>\n",
       "<table border=\"1\" class=\"dataframe\">\n",
       "  <thead>\n",
       "    <tr style=\"text-align: right;\">\n",
       "      <th></th>\n",
       "      <th>CRIM</th>\n",
       "      <th>ZN</th>\n",
       "      <th>INDUS</th>\n",
       "      <th>CHAS</th>\n",
       "      <th>NOX</th>\n",
       "      <th>RM</th>\n",
       "      <th>AGE</th>\n",
       "      <th>DIS</th>\n",
       "      <th>RAD</th>\n",
       "      <th>TAX</th>\n",
       "      <th>PTRATIO</th>\n",
       "      <th>B</th>\n",
       "      <th>LSTAT</th>\n",
       "      <th>MEDV</th>\n",
       "    </tr>\n",
       "  </thead>\n",
       "  <tbody>\n",
       "    <tr>\n",
       "      <th>0</th>\n",
       "      <td>0.00632</td>\n",
       "      <td>18.0</td>\n",
       "      <td>2.31</td>\n",
       "      <td>0</td>\n",
       "      <td>0.538</td>\n",
       "      <td>6.575</td>\n",
       "      <td>65.2</td>\n",
       "      <td>4.0900</td>\n",
       "      <td>1</td>\n",
       "      <td>296.0</td>\n",
       "      <td>15.3</td>\n",
       "      <td>396.90</td>\n",
       "      <td>4.98</td>\n",
       "      <td>24.0</td>\n",
       "    </tr>\n",
       "    <tr>\n",
       "      <th>1</th>\n",
       "      <td>0.02731</td>\n",
       "      <td>0.0</td>\n",
       "      <td>7.07</td>\n",
       "      <td>0</td>\n",
       "      <td>0.469</td>\n",
       "      <td>6.421</td>\n",
       "      <td>78.9</td>\n",
       "      <td>4.9671</td>\n",
       "      <td>2</td>\n",
       "      <td>242.0</td>\n",
       "      <td>17.8</td>\n",
       "      <td>396.90</td>\n",
       "      <td>9.14</td>\n",
       "      <td>21.6</td>\n",
       "    </tr>\n",
       "    <tr>\n",
       "      <th>2</th>\n",
       "      <td>0.02729</td>\n",
       "      <td>0.0</td>\n",
       "      <td>7.07</td>\n",
       "      <td>0</td>\n",
       "      <td>0.469</td>\n",
       "      <td>7.185</td>\n",
       "      <td>61.1</td>\n",
       "      <td>4.9671</td>\n",
       "      <td>2</td>\n",
       "      <td>242.0</td>\n",
       "      <td>17.8</td>\n",
       "      <td>392.83</td>\n",
       "      <td>4.03</td>\n",
       "      <td>34.7</td>\n",
       "    </tr>\n",
       "    <tr>\n",
       "      <th>3</th>\n",
       "      <td>0.03237</td>\n",
       "      <td>0.0</td>\n",
       "      <td>2.18</td>\n",
       "      <td>0</td>\n",
       "      <td>0.458</td>\n",
       "      <td>6.998</td>\n",
       "      <td>45.8</td>\n",
       "      <td>6.0622</td>\n",
       "      <td>3</td>\n",
       "      <td>222.0</td>\n",
       "      <td>18.7</td>\n",
       "      <td>394.63</td>\n",
       "      <td>2.94</td>\n",
       "      <td>33.4</td>\n",
       "    </tr>\n",
       "    <tr>\n",
       "      <th>4</th>\n",
       "      <td>0.06905</td>\n",
       "      <td>0.0</td>\n",
       "      <td>2.18</td>\n",
       "      <td>0</td>\n",
       "      <td>0.458</td>\n",
       "      <td>7.147</td>\n",
       "      <td>54.2</td>\n",
       "      <td>6.0622</td>\n",
       "      <td>3</td>\n",
       "      <td>222.0</td>\n",
       "      <td>18.7</td>\n",
       "      <td>396.90</td>\n",
       "      <td>5.33</td>\n",
       "      <td>36.2</td>\n",
       "    </tr>\n",
       "  </tbody>\n",
       "</table>\n",
       "</div>"
      ],
      "text/plain": [
       "      CRIM    ZN  INDUS  CHAS    NOX     RM   AGE     DIS  RAD    TAX  \\\n",
       "0  0.00632  18.0   2.31     0  0.538  6.575  65.2  4.0900    1  296.0   \n",
       "1  0.02731   0.0   7.07     0  0.469  6.421  78.9  4.9671    2  242.0   \n",
       "2  0.02729   0.0   7.07     0  0.469  7.185  61.1  4.9671    2  242.0   \n",
       "3  0.03237   0.0   2.18     0  0.458  6.998  45.8  6.0622    3  222.0   \n",
       "4  0.06905   0.0   2.18     0  0.458  7.147  54.2  6.0622    3  222.0   \n",
       "\n",
       "   PTRATIO       B  LSTAT  MEDV  \n",
       "0     15.3  396.90   4.98  24.0  \n",
       "1     17.8  396.90   9.14  21.6  \n",
       "2     17.8  392.83   4.03  34.7  \n",
       "3     18.7  394.63   2.94  33.4  \n",
       "4     18.7  396.90   5.33  36.2  "
      ]
     },
     "execution_count": 1,
     "metadata": {},
     "output_type": "execute_result"
    }
   ],
   "source": [
    "import pandas as pd\n",
    "import numpy as np\n",
    "import matplotlib.pyplot as plt\n",
    "import seaborn as sns\n",
    "import warnings\n",
    "\n",
    "warnings.filterwarnings(\"ignore\")\n",
    "\n",
    "df = pd.read_csv('housing data.csv', sep=',', names = ['CRIM', 'ZN', 'INDUS', 'CHAS', 'NOX', 'RM', 'AGE', 'DIS', 'RAD', \n",
    "                                                       'TAX', 'PTRATIO', 'B', 'LSTAT', 'MEDV'])\n",
    "\n",
    "df.head()"
   ]
  },
  {
   "cell_type": "markdown",
   "id": "2f5b5736",
   "metadata": {},
   "source": [
    "### Estudi del dataframe"
   ]
  },
  {
   "cell_type": "markdown",
   "id": "ad19c46a",
   "metadata": {},
   "source": [
    "#### Informació d'atributs:\n",
    "\n",
    "1. **CRIM**: Taxa de delinqüència per càpita per municipis.\n",
    "2. **ZN**: Proporció de sòl residencial zonificat per a solars superiors 25.000 peus quadrats.\n",
    "3. **INDUS**: Proporció d'hectàrees comercials no minoristes per ciutat.\n",
    "4. **CHAS**: Variable dummy de Charles River (= 1 si limita amb el riu; 0 en cas contrari).\n",
    "5. **NOX**: Concentració d'òxids nítrics (parts per 10 milions).\n",
    "6. **RM**: Nombre mitjà d'habitacions per habitatge.\n",
    "7. **AGE**: Proporció de les unitats ocupades pel propietari construïdes abans de 1940.\n",
    "8. **DIS**: Distàncies ponderades fins a cinc centres d'ocupació de Boston.\n",
    "9. **RAD**: Índex d'accessibilitat a les carreteres radials.\n",
    "10. **TAX**: Valor total de l'impost sobre la propietat per 10.000$.\n",
    "11. **PTRATIO**: Ràtio alumnes-professor per municipis.\n",
    "12. **B**: 1000(Bk - 0,63)^2 on Bk és la proporció de negres per municipi.\n",
    "13. **LSTAT**: % d'estatus inferior de la població.\n",
    "14. **MEDV**: Valor mitjà de les cases ocupades pel propietari en 1.000 dòlars.\n",
    "     \n",
    "***Opinió personal: l'atribut 12 és indignant.***"
   ]
  },
  {
   "cell_type": "code",
   "execution_count": 2,
   "id": "61b9d2aa",
   "metadata": {},
   "outputs": [
    {
     "name": "stdout",
     "output_type": "stream",
     "text": [
      "<class 'pandas.core.frame.DataFrame'>\n",
      "RangeIndex: 506 entries, 0 to 505\n",
      "Data columns (total 14 columns):\n",
      " #   Column   Non-Null Count  Dtype  \n",
      "---  ------   --------------  -----  \n",
      " 0   CRIM     506 non-null    float64\n",
      " 1   ZN       506 non-null    float64\n",
      " 2   INDUS    506 non-null    float64\n",
      " 3   CHAS     506 non-null    int64  \n",
      " 4   NOX      506 non-null    float64\n",
      " 5   RM       506 non-null    float64\n",
      " 6   AGE      506 non-null    float64\n",
      " 7   DIS      506 non-null    float64\n",
      " 8   RAD      506 non-null    int64  \n",
      " 9   TAX      506 non-null    float64\n",
      " 10  PTRATIO  506 non-null    float64\n",
      " 11  B        506 non-null    float64\n",
      " 12  LSTAT    506 non-null    float64\n",
      " 13  MEDV     506 non-null    float64\n",
      "dtypes: float64(12), int64(2)\n",
      "memory usage: 55.5 KB\n"
     ]
    }
   ],
   "source": [
    "# Informació sobre el nombre de columnes, de files i el seu tipus de dada\n",
    "\n",
    "df.info()"
   ]
  },
  {
   "cell_type": "markdown",
   "id": "13a89251",
   "metadata": {},
   "source": [
    "El dataframe consta de 14 columnes i 506 files. Totes les dades són de tipus float menys les que pertanyen a CHAS i a RAD, que són de tipus int."
   ]
  },
  {
   "cell_type": "code",
   "execution_count": 3,
   "id": "e254e9f8",
   "metadata": {},
   "outputs": [
    {
     "data": {
      "text/html": [
       "<div>\n",
       "<style scoped>\n",
       "    .dataframe tbody tr th:only-of-type {\n",
       "        vertical-align: middle;\n",
       "    }\n",
       "\n",
       "    .dataframe tbody tr th {\n",
       "        vertical-align: top;\n",
       "    }\n",
       "\n",
       "    .dataframe thead th {\n",
       "        text-align: right;\n",
       "    }\n",
       "</style>\n",
       "<table border=\"1\" class=\"dataframe\">\n",
       "  <thead>\n",
       "    <tr style=\"text-align: right;\">\n",
       "      <th></th>\n",
       "      <th>CRIM</th>\n",
       "      <th>ZN</th>\n",
       "      <th>INDUS</th>\n",
       "      <th>CHAS</th>\n",
       "      <th>NOX</th>\n",
       "      <th>RM</th>\n",
       "      <th>AGE</th>\n",
       "      <th>DIS</th>\n",
       "      <th>RAD</th>\n",
       "      <th>TAX</th>\n",
       "      <th>PTRATIO</th>\n",
       "      <th>B</th>\n",
       "      <th>LSTAT</th>\n",
       "      <th>MEDV</th>\n",
       "    </tr>\n",
       "  </thead>\n",
       "  <tbody>\n",
       "    <tr>\n",
       "      <th>count</th>\n",
       "      <td>506.000000</td>\n",
       "      <td>506.000000</td>\n",
       "      <td>506.000000</td>\n",
       "      <td>506.000000</td>\n",
       "      <td>506.000000</td>\n",
       "      <td>506.000000</td>\n",
       "      <td>506.000000</td>\n",
       "      <td>506.000000</td>\n",
       "      <td>506.000000</td>\n",
       "      <td>506.000000</td>\n",
       "      <td>506.000000</td>\n",
       "      <td>506.000000</td>\n",
       "      <td>506.000000</td>\n",
       "      <td>506.000000</td>\n",
       "    </tr>\n",
       "    <tr>\n",
       "      <th>mean</th>\n",
       "      <td>3.613524</td>\n",
       "      <td>11.363636</td>\n",
       "      <td>11.136779</td>\n",
       "      <td>0.069170</td>\n",
       "      <td>0.554695</td>\n",
       "      <td>6.284634</td>\n",
       "      <td>68.574901</td>\n",
       "      <td>3.795043</td>\n",
       "      <td>9.549407</td>\n",
       "      <td>408.237154</td>\n",
       "      <td>18.455534</td>\n",
       "      <td>356.674032</td>\n",
       "      <td>12.653063</td>\n",
       "      <td>22.532806</td>\n",
       "    </tr>\n",
       "    <tr>\n",
       "      <th>std</th>\n",
       "      <td>8.601545</td>\n",
       "      <td>23.322453</td>\n",
       "      <td>6.860353</td>\n",
       "      <td>0.253994</td>\n",
       "      <td>0.115878</td>\n",
       "      <td>0.702617</td>\n",
       "      <td>28.148861</td>\n",
       "      <td>2.105710</td>\n",
       "      <td>8.707259</td>\n",
       "      <td>168.537116</td>\n",
       "      <td>2.164946</td>\n",
       "      <td>91.294864</td>\n",
       "      <td>7.141062</td>\n",
       "      <td>9.197104</td>\n",
       "    </tr>\n",
       "    <tr>\n",
       "      <th>min</th>\n",
       "      <td>0.006320</td>\n",
       "      <td>0.000000</td>\n",
       "      <td>0.460000</td>\n",
       "      <td>0.000000</td>\n",
       "      <td>0.385000</td>\n",
       "      <td>3.561000</td>\n",
       "      <td>2.900000</td>\n",
       "      <td>1.129600</td>\n",
       "      <td>1.000000</td>\n",
       "      <td>187.000000</td>\n",
       "      <td>12.600000</td>\n",
       "      <td>0.320000</td>\n",
       "      <td>1.730000</td>\n",
       "      <td>5.000000</td>\n",
       "    </tr>\n",
       "    <tr>\n",
       "      <th>25%</th>\n",
       "      <td>0.082045</td>\n",
       "      <td>0.000000</td>\n",
       "      <td>5.190000</td>\n",
       "      <td>0.000000</td>\n",
       "      <td>0.449000</td>\n",
       "      <td>5.885500</td>\n",
       "      <td>45.025000</td>\n",
       "      <td>2.100175</td>\n",
       "      <td>4.000000</td>\n",
       "      <td>279.000000</td>\n",
       "      <td>17.400000</td>\n",
       "      <td>375.377500</td>\n",
       "      <td>6.950000</td>\n",
       "      <td>17.025000</td>\n",
       "    </tr>\n",
       "    <tr>\n",
       "      <th>50%</th>\n",
       "      <td>0.256510</td>\n",
       "      <td>0.000000</td>\n",
       "      <td>9.690000</td>\n",
       "      <td>0.000000</td>\n",
       "      <td>0.538000</td>\n",
       "      <td>6.208500</td>\n",
       "      <td>77.500000</td>\n",
       "      <td>3.207450</td>\n",
       "      <td>5.000000</td>\n",
       "      <td>330.000000</td>\n",
       "      <td>19.050000</td>\n",
       "      <td>391.440000</td>\n",
       "      <td>11.360000</td>\n",
       "      <td>21.200000</td>\n",
       "    </tr>\n",
       "    <tr>\n",
       "      <th>75%</th>\n",
       "      <td>3.677083</td>\n",
       "      <td>12.500000</td>\n",
       "      <td>18.100000</td>\n",
       "      <td>0.000000</td>\n",
       "      <td>0.624000</td>\n",
       "      <td>6.623500</td>\n",
       "      <td>94.075000</td>\n",
       "      <td>5.188425</td>\n",
       "      <td>24.000000</td>\n",
       "      <td>666.000000</td>\n",
       "      <td>20.200000</td>\n",
       "      <td>396.225000</td>\n",
       "      <td>16.955000</td>\n",
       "      <td>25.000000</td>\n",
       "    </tr>\n",
       "    <tr>\n",
       "      <th>max</th>\n",
       "      <td>88.976200</td>\n",
       "      <td>100.000000</td>\n",
       "      <td>27.740000</td>\n",
       "      <td>1.000000</td>\n",
       "      <td>0.871000</td>\n",
       "      <td>8.780000</td>\n",
       "      <td>100.000000</td>\n",
       "      <td>12.126500</td>\n",
       "      <td>24.000000</td>\n",
       "      <td>711.000000</td>\n",
       "      <td>22.000000</td>\n",
       "      <td>396.900000</td>\n",
       "      <td>37.970000</td>\n",
       "      <td>50.000000</td>\n",
       "    </tr>\n",
       "  </tbody>\n",
       "</table>\n",
       "</div>"
      ],
      "text/plain": [
       "             CRIM          ZN       INDUS        CHAS         NOX          RM  \\\n",
       "count  506.000000  506.000000  506.000000  506.000000  506.000000  506.000000   \n",
       "mean     3.613524   11.363636   11.136779    0.069170    0.554695    6.284634   \n",
       "std      8.601545   23.322453    6.860353    0.253994    0.115878    0.702617   \n",
       "min      0.006320    0.000000    0.460000    0.000000    0.385000    3.561000   \n",
       "25%      0.082045    0.000000    5.190000    0.000000    0.449000    5.885500   \n",
       "50%      0.256510    0.000000    9.690000    0.000000    0.538000    6.208500   \n",
       "75%      3.677083   12.500000   18.100000    0.000000    0.624000    6.623500   \n",
       "max     88.976200  100.000000   27.740000    1.000000    0.871000    8.780000   \n",
       "\n",
       "              AGE         DIS         RAD         TAX     PTRATIO           B  \\\n",
       "count  506.000000  506.000000  506.000000  506.000000  506.000000  506.000000   \n",
       "mean    68.574901    3.795043    9.549407  408.237154   18.455534  356.674032   \n",
       "std     28.148861    2.105710    8.707259  168.537116    2.164946   91.294864   \n",
       "min      2.900000    1.129600    1.000000  187.000000   12.600000    0.320000   \n",
       "25%     45.025000    2.100175    4.000000  279.000000   17.400000  375.377500   \n",
       "50%     77.500000    3.207450    5.000000  330.000000   19.050000  391.440000   \n",
       "75%     94.075000    5.188425   24.000000  666.000000   20.200000  396.225000   \n",
       "max    100.000000   12.126500   24.000000  711.000000   22.000000  396.900000   \n",
       "\n",
       "            LSTAT        MEDV  \n",
       "count  506.000000  506.000000  \n",
       "mean    12.653063   22.532806  \n",
       "std      7.141062    9.197104  \n",
       "min      1.730000    5.000000  \n",
       "25%      6.950000   17.025000  \n",
       "50%     11.360000   21.200000  \n",
       "75%     16.955000   25.000000  \n",
       "max     37.970000   50.000000  "
      ]
     },
     "execution_count": 3,
     "metadata": {},
     "output_type": "execute_result"
    }
   ],
   "source": [
    "# Descripció estadística del dataframe\n",
    "\n",
    "df.describe()"
   ]
  },
  {
   "cell_type": "code",
   "execution_count": 4,
   "id": "0a2ab2d7",
   "metadata": {
    "scrolled": true
   },
   "outputs": [
    {
     "data": {
      "text/plain": [
       "CRIM       0\n",
       "ZN         0\n",
       "INDUS      0\n",
       "CHAS       0\n",
       "NOX        0\n",
       "RM         0\n",
       "AGE        0\n",
       "DIS        0\n",
       "RAD        0\n",
       "TAX        0\n",
       "PTRATIO    0\n",
       "B          0\n",
       "LSTAT      0\n",
       "MEDV       0\n",
       "dtype: int64"
      ]
     },
     "execution_count": 4,
     "metadata": {},
     "output_type": "execute_result"
    }
   ],
   "source": [
    "# Comprovem que no hi hagi valors nulls (no cal fer isna(), ja que a pandas isnull() i isna() és equivalent)\n",
    "\n",
    "df.isnull().sum()"
   ]
  },
  {
   "cell_type": "markdown",
   "id": "19196372",
   "metadata": {},
   "source": [
    "No hi ha cap valor null."
   ]
  },
  {
   "cell_type": "code",
   "execution_count": 5,
   "id": "65fc5074",
   "metadata": {},
   "outputs": [
    {
     "data": {
      "text/html": [
       "<div>\n",
       "<style scoped>\n",
       "    .dataframe tbody tr th:only-of-type {\n",
       "        vertical-align: middle;\n",
       "    }\n",
       "\n",
       "    .dataframe tbody tr th {\n",
       "        vertical-align: top;\n",
       "    }\n",
       "\n",
       "    .dataframe thead th {\n",
       "        text-align: right;\n",
       "    }\n",
       "</style>\n",
       "<table border=\"1\" class=\"dataframe\">\n",
       "  <thead>\n",
       "    <tr style=\"text-align: right;\">\n",
       "      <th></th>\n",
       "      <th>CRIM</th>\n",
       "      <th>ZN</th>\n",
       "      <th>INDUS</th>\n",
       "      <th>CHAS</th>\n",
       "      <th>NOX</th>\n",
       "      <th>RM</th>\n",
       "      <th>AGE</th>\n",
       "      <th>DIS</th>\n",
       "      <th>RAD</th>\n",
       "      <th>TAX</th>\n",
       "      <th>PTRATIO</th>\n",
       "      <th>B</th>\n",
       "      <th>LSTAT</th>\n",
       "      <th>MEDV</th>\n",
       "    </tr>\n",
       "  </thead>\n",
       "  <tbody>\n",
       "  </tbody>\n",
       "</table>\n",
       "</div>"
      ],
      "text/plain": [
       "Empty DataFrame\n",
       "Columns: [CRIM, ZN, INDUS, CHAS, NOX, RM, AGE, DIS, RAD, TAX, PTRATIO, B, LSTAT, MEDV]\n",
       "Index: []"
      ]
     },
     "execution_count": 5,
     "metadata": {},
     "output_type": "execute_result"
    }
   ],
   "source": [
    "# Comprovem si hi ha duplicats\n",
    "\n",
    "df[df.duplicated]"
   ]
  },
  {
   "cell_type": "markdown",
   "id": "6dfe2838",
   "metadata": {},
   "source": [
    "No hi ha duplicats."
   ]
  },
  {
   "cell_type": "code",
   "execution_count": 6,
   "id": "66a6a8dc",
   "metadata": {},
   "outputs": [
    {
     "data": {
      "text/plain": [
       "CRIM       504\n",
       "ZN          26\n",
       "INDUS       76\n",
       "CHAS         2\n",
       "NOX         81\n",
       "RM         446\n",
       "AGE        356\n",
       "DIS        412\n",
       "RAD          9\n",
       "TAX         66\n",
       "PTRATIO     46\n",
       "B          357\n",
       "LSTAT      455\n",
       "MEDV       229\n",
       "dtype: int64"
      ]
     },
     "execution_count": 6,
     "metadata": {},
     "output_type": "execute_result"
    }
   ],
   "source": [
    "# Mirem el nombre de valors únics en cada columna per a trobar columnes susceptibles de ser transformades en dummies.\n",
    "\n",
    "df.nunique()"
   ]
  },
  {
   "cell_type": "markdown",
   "id": "aa0105b1",
   "metadata": {},
   "source": [
    "Com podem veure, CHAS té 2 valors únics (és una columna dummy) i RAD en té 9 (la podem transformar en dummy)."
   ]
  },
  {
   "cell_type": "code",
   "execution_count": 7,
   "id": "9a5f8764",
   "metadata": {},
   "outputs": [
    {
     "data": {
      "image/png": "[encoded data removed]",
      "text/plain": [
       "<Figure size 1200x800 with 2 Axes>"
      ]
     },
     "metadata": {},
     "output_type": "display_data"
    }
   ],
   "source": [
    "# Fem un mapa de calor per veure les correlacions entre variables\n",
    "\n",
    "plt.figure(figsize=(12, 8))\n",
    "corr_matrix = df.corr()\n",
    "mask = np.triu(np.ones_like(corr_matrix))\n",
    "sns.heatmap(df.corr(), mask=mask, cmap='coolwarm', linewidths=1, linecolor='white', annot=True)\n",
    "plt.show()"
   ]
  },
  {
   "cell_type": "markdown",
   "id": "5d3544b5",
   "metadata": {},
   "source": [
    "El valor que volem predir (target) és el MEDV (preu). \n",
    "\n",
    "Com podem veure, les variables que tenen una correlació forta amb el preu amb molta diferència són LSTAT (% d'estatus inferior de la població), ja que com més pobre sigui un barri menys valdrà la vivenda (correlació negativa) i RM (Nombre mitjà d'habitacions per habitatge), ja que normalment com més habitacions té una vivenda més cara és (correlació positiva). \n",
    "\n",
    "INDUS, TAX i PTRATIO tenen una correlació moderada amb MEDV, i la resta tenen una correlació dèbil o directament podriem considerar que no tenen correlació.\n",
    "\n",
    "A destacar la correlació positiva quasi perfecta entre TAX i RAD."
   ]
  },
  {
   "cell_type": "code",
   "execution_count": 8,
   "id": "fa64d779",
   "metadata": {
    "scrolled": false
   },
   "outputs": [
    {
     "data": {
      "image/png": "[encoded data removed]",
      "text/plain": [
       "<Figure size 2000x1200 with 14 Axes>"
      ]
     },
     "metadata": {},
     "output_type": "display_data"
    }
   ],
   "source": [
    "# Fem un boxplot de cada variable per veure els outliers que tenen\n",
    "\n",
    "colors = sns.color_palette(\"husl\", len(df.columns))\n",
    "\n",
    "fig, axs = plt.subplots(ncols=7, nrows=2, figsize=(20, 12))\n",
    "count = 0\n",
    "axs = axs.flatten()\n",
    "\n",
    "for i, column in enumerate(df.columns):\n",
    "    sns.boxplot(y=column, data=df, ax=axs[count], color=colors[i])\n",
    "    axs[count].set_ylabel(column, fontweight='bold')\n",
    "    count += 1\n",
    "\n",
    "plt.tight_layout(pad=2, w_pad=2, h_pad=1)\n",
    "plt.show()"
   ]
  },
  {
   "cell_type": "markdown",
   "id": "3c27e9a1",
   "metadata": {},
   "source": [
    "Les variables amb outliers són: 'CRIM', 'ZN', 'RM', 'DIS', 'PTRATIO' ,'B' ,'LSTAT' i 'MEDV'. 'MEDV' és la variable target i \n",
    "en models de regressió lineal, normalment no es normalitza ni s'estandaritza la variable target, ja que els coeficients del model resultant s'interpreten en relació amb l'escala original de la variable target. A la resta de variables aplicarem RobustScaler.\n",
    "\n",
    "Les variables sense outliers són: 'INDUS', 'NOX', 'AGE' i 'TAX'. A aquestes aplicarem MinMaxScaler. "
   ]
  },
  {
   "cell_type": "code",
   "execution_count": 9,
   "id": "49ebd079",
   "metadata": {},
   "outputs": [
    {
     "name": "stdout",
     "output_type": "stream",
     "text": [
      "CRIM: No normal\n",
      "ZN: No normal\n",
      "INDUS: No normal\n",
      "CHAS: No normal\n",
      "NOX: No normal\n",
      "RM: No normal\n",
      "AGE: No normal\n",
      "DIS: No normal\n",
      "RAD: No normal\n",
      "TAX: No normal\n",
      "PTRATIO: No normal\n",
      "B: No normal\n",
      "LSTAT: No normal\n",
      "MEDV: No normal\n"
     ]
    }
   ],
   "source": [
    "# Apliquem el test de Shapiro a cada variable per veure si tenen una distribució gaussiana\n",
    "\n",
    "from scipy.stats import shapiro\n",
    "\n",
    "for column in df.columns:\n",
    "    stat, p_value = shapiro(df[column])\n",
    "    is_normal = \"Normal\" if p_value > 0.05 else \"No normal\"\n",
    "    print(f\"{column}: {is_normal}\")"
   ]
  },
  {
   "cell_type": "markdown",
   "id": "11a28e7c",
   "metadata": {},
   "source": [
    "Com podem veure, cap variable té una distribució normal, per tant no podrem aplicar la standarització tret que tinguin outliers."
   ]
  },
  {
   "cell_type": "code",
   "execution_count": 10,
   "id": "f7581cbe",
   "metadata": {},
   "outputs": [],
   "source": [
    "# Fem copia abans del preprocessat per no modificar el dataframe original\n",
    "\n",
    "df_copy = df.copy()"
   ]
  },
  {
   "cell_type": "markdown",
   "id": "c2f9f46d",
   "metadata": {},
   "source": [
    "### Preprocessat"
   ]
  },
  {
   "cell_type": "markdown",
   "id": "b4141b64",
   "metadata": {},
   "source": [
    "Com hem comentat, procedirem a transformar en dummy la variable RAD, ja que només té 9 valors únics."
   ]
  },
  {
   "cell_type": "code",
   "execution_count": 11,
   "id": "a08fe42a",
   "metadata": {},
   "outputs": [
    {
     "data": {
      "text/html": [
       "<div>\n",
       "<style scoped>\n",
       "    .dataframe tbody tr th:only-of-type {\n",
       "        vertical-align: middle;\n",
       "    }\n",
       "\n",
       "    .dataframe tbody tr th {\n",
       "        vertical-align: top;\n",
       "    }\n",
       "\n",
       "    .dataframe thead th {\n",
       "        text-align: right;\n",
       "    }\n",
       "</style>\n",
       "<table border=\"1\" class=\"dataframe\">\n",
       "  <thead>\n",
       "    <tr style=\"text-align: right;\">\n",
       "      <th></th>\n",
       "      <th>CRIM</th>\n",
       "      <th>ZN</th>\n",
       "      <th>INDUS</th>\n",
       "      <th>CHAS</th>\n",
       "      <th>NOX</th>\n",
       "      <th>RM</th>\n",
       "      <th>AGE</th>\n",
       "      <th>DIS</th>\n",
       "      <th>TAX</th>\n",
       "      <th>PTRATIO</th>\n",
       "      <th>...</th>\n",
       "      <th>MEDV</th>\n",
       "      <th>RAD_1</th>\n",
       "      <th>RAD_2</th>\n",
       "      <th>RAD_3</th>\n",
       "      <th>RAD_4</th>\n",
       "      <th>RAD_5</th>\n",
       "      <th>RAD_6</th>\n",
       "      <th>RAD_7</th>\n",
       "      <th>RAD_8</th>\n",
       "      <th>RAD_24</th>\n",
       "    </tr>\n",
       "  </thead>\n",
       "  <tbody>\n",
       "    <tr>\n",
       "      <th>0</th>\n",
       "      <td>0.00632</td>\n",
       "      <td>18.0</td>\n",
       "      <td>2.31</td>\n",
       "      <td>0</td>\n",
       "      <td>0.538</td>\n",
       "      <td>6.575</td>\n",
       "      <td>65.2</td>\n",
       "      <td>4.0900</td>\n",
       "      <td>296.0</td>\n",
       "      <td>15.3</td>\n",
       "      <td>...</td>\n",
       "      <td>24.0</td>\n",
       "      <td>1</td>\n",
       "      <td>0</td>\n",
       "      <td>0</td>\n",
       "      <td>0</td>\n",
       "      <td>0</td>\n",
       "      <td>0</td>\n",
       "      <td>0</td>\n",
       "      <td>0</td>\n",
       "      <td>0</td>\n",
       "    </tr>\n",
       "    <tr>\n",
       "      <th>1</th>\n",
       "      <td>0.02731</td>\n",
       "      <td>0.0</td>\n",
       "      <td>7.07</td>\n",
       "      <td>0</td>\n",
       "      <td>0.469</td>\n",
       "      <td>6.421</td>\n",
       "      <td>78.9</td>\n",
       "      <td>4.9671</td>\n",
       "      <td>242.0</td>\n",
       "      <td>17.8</td>\n",
       "      <td>...</td>\n",
       "      <td>21.6</td>\n",
       "      <td>0</td>\n",
       "      <td>1</td>\n",
       "      <td>0</td>\n",
       "      <td>0</td>\n",
       "      <td>0</td>\n",
       "      <td>0</td>\n",
       "      <td>0</td>\n",
       "      <td>0</td>\n",
       "      <td>0</td>\n",
       "    </tr>\n",
       "    <tr>\n",
       "      <th>2</th>\n",
       "      <td>0.02729</td>\n",
       "      <td>0.0</td>\n",
       "      <td>7.07</td>\n",
       "      <td>0</td>\n",
       "      <td>0.469</td>\n",
       "      <td>7.185</td>\n",
       "      <td>61.1</td>\n",
       "      <td>4.9671</td>\n",
       "      <td>242.0</td>\n",
       "      <td>17.8</td>\n",
       "      <td>...</td>\n",
       "      <td>34.7</td>\n",
       "      <td>0</td>\n",
       "      <td>1</td>\n",
       "      <td>0</td>\n",
       "      <td>0</td>\n",
       "      <td>0</td>\n",
       "      <td>0</td>\n",
       "      <td>0</td>\n",
       "      <td>0</td>\n",
       "      <td>0</td>\n",
       "    </tr>\n",
       "    <tr>\n",
       "      <th>3</th>\n",
       "      <td>0.03237</td>\n",
       "      <td>0.0</td>\n",
       "      <td>2.18</td>\n",
       "      <td>0</td>\n",
       "      <td>0.458</td>\n",
       "      <td>6.998</td>\n",
       "      <td>45.8</td>\n",
       "      <td>6.0622</td>\n",
       "      <td>222.0</td>\n",
       "      <td>18.7</td>\n",
       "      <td>...</td>\n",
       "      <td>33.4</td>\n",
       "      <td>0</td>\n",
       "      <td>0</td>\n",
       "      <td>1</td>\n",
       "      <td>0</td>\n",
       "      <td>0</td>\n",
       "      <td>0</td>\n",
       "      <td>0</td>\n",
       "      <td>0</td>\n",
       "      <td>0</td>\n",
       "    </tr>\n",
       "    <tr>\n",
       "      <th>4</th>\n",
       "      <td>0.06905</td>\n",
       "      <td>0.0</td>\n",
       "      <td>2.18</td>\n",
       "      <td>0</td>\n",
       "      <td>0.458</td>\n",
       "      <td>7.147</td>\n",
       "      <td>54.2</td>\n",
       "      <td>6.0622</td>\n",
       "      <td>222.0</td>\n",
       "      <td>18.7</td>\n",
       "      <td>...</td>\n",
       "      <td>36.2</td>\n",
       "      <td>0</td>\n",
       "      <td>0</td>\n",
       "      <td>1</td>\n",
       "      <td>0</td>\n",
       "      <td>0</td>\n",
       "      <td>0</td>\n",
       "      <td>0</td>\n",
       "      <td>0</td>\n",
       "      <td>0</td>\n",
       "    </tr>\n",
       "  </tbody>\n",
       "</table>\n",
       "<p>5 rows × 22 columns</p>\n",
       "</div>"
      ],
      "text/plain": [
       "      CRIM    ZN  INDUS  CHAS    NOX     RM   AGE     DIS    TAX  PTRATIO  \\\n",
       "0  0.00632  18.0   2.31     0  0.538  6.575  65.2  4.0900  296.0     15.3   \n",
       "1  0.02731   0.0   7.07     0  0.469  6.421  78.9  4.9671  242.0     17.8   \n",
       "2  0.02729   0.0   7.07     0  0.469  7.185  61.1  4.9671  242.0     17.8   \n",
       "3  0.03237   0.0   2.18     0  0.458  6.998  45.8  6.0622  222.0     18.7   \n",
       "4  0.06905   0.0   2.18     0  0.458  7.147  54.2  6.0622  222.0     18.7   \n",
       "\n",
       "   ...  MEDV  RAD_1  RAD_2  RAD_3  RAD_4  RAD_5  RAD_6  RAD_7  RAD_8  RAD_24  \n",
       "0  ...  24.0      1      0      0      0      0      0      0      0       0  \n",
       "1  ...  21.6      0      1      0      0      0      0      0      0       0  \n",
       "2  ...  34.7      0      1      0      0      0      0      0      0       0  \n",
       "3  ...  33.4      0      0      1      0      0      0      0      0       0  \n",
       "4  ...  36.2      0      0      1      0      0      0      0      0       0  \n",
       "\n",
       "[5 rows x 22 columns]"
      ]
     },
     "execution_count": 11,
     "metadata": {},
     "output_type": "execute_result"
    }
   ],
   "source": [
    "df_copy = pd.get_dummies(df_copy, columns=[\"RAD\"])\n",
    "df_copy.head()"
   ]
  },
  {
   "cell_type": "markdown",
   "id": "c9fe838a",
   "metadata": {},
   "source": [
    "Procedim ara a normalitzar i standarditzar les variables segons si tenen o no outliers."
   ]
  },
  {
   "cell_type": "code",
   "execution_count": 12,
   "id": "a38c4e67",
   "metadata": {},
   "outputs": [
    {
     "data": {
      "text/html": [
       "<div>\n",
       "<style scoped>\n",
       "    .dataframe tbody tr th:only-of-type {\n",
       "        vertical-align: middle;\n",
       "    }\n",
       "\n",
       "    .dataframe tbody tr th {\n",
       "        vertical-align: top;\n",
       "    }\n",
       "\n",
       "    .dataframe thead th {\n",
       "        text-align: right;\n",
       "    }\n",
       "</style>\n",
       "<table border=\"1\" class=\"dataframe\">\n",
       "  <thead>\n",
       "    <tr style=\"text-align: right;\">\n",
       "      <th></th>\n",
       "      <th>CRIM</th>\n",
       "      <th>ZN</th>\n",
       "      <th>INDUS</th>\n",
       "      <th>CHAS</th>\n",
       "      <th>NOX</th>\n",
       "      <th>RM</th>\n",
       "      <th>AGE</th>\n",
       "      <th>DIS</th>\n",
       "      <th>TAX</th>\n",
       "      <th>PTRATIO</th>\n",
       "      <th>...</th>\n",
       "      <th>MEDV</th>\n",
       "      <th>RAD_1</th>\n",
       "      <th>RAD_2</th>\n",
       "      <th>RAD_3</th>\n",
       "      <th>RAD_4</th>\n",
       "      <th>RAD_5</th>\n",
       "      <th>RAD_6</th>\n",
       "      <th>RAD_7</th>\n",
       "      <th>RAD_8</th>\n",
       "      <th>RAD_24</th>\n",
       "    </tr>\n",
       "  </thead>\n",
       "  <tbody>\n",
       "    <tr>\n",
       "      <th>0</th>\n",
       "      <td>-0.069593</td>\n",
       "      <td>1.44</td>\n",
       "      <td>0.067815</td>\n",
       "      <td>0</td>\n",
       "      <td>0.314815</td>\n",
       "      <td>0.496612</td>\n",
       "      <td>0.641607</td>\n",
       "      <td>0.285777</td>\n",
       "      <td>0.208015</td>\n",
       "      <td>-1.339286</td>\n",
       "      <td>...</td>\n",
       "      <td>24.0</td>\n",
       "      <td>1</td>\n",
       "      <td>0</td>\n",
       "      <td>0</td>\n",
       "      <td>0</td>\n",
       "      <td>0</td>\n",
       "      <td>0</td>\n",
       "      <td>0</td>\n",
       "      <td>0</td>\n",
       "      <td>0</td>\n",
       "    </tr>\n",
       "    <tr>\n",
       "      <th>1</th>\n",
       "      <td>-0.063755</td>\n",
       "      <td>0.00</td>\n",
       "      <td>0.242302</td>\n",
       "      <td>0</td>\n",
       "      <td>0.172840</td>\n",
       "      <td>0.287940</td>\n",
       "      <td>0.782698</td>\n",
       "      <td>0.569789</td>\n",
       "      <td>0.104962</td>\n",
       "      <td>-0.446429</td>\n",
       "      <td>...</td>\n",
       "      <td>21.6</td>\n",
       "      <td>0</td>\n",
       "      <td>1</td>\n",
       "      <td>0</td>\n",
       "      <td>0</td>\n",
       "      <td>0</td>\n",
       "      <td>0</td>\n",
       "      <td>0</td>\n",
       "      <td>0</td>\n",
       "      <td>0</td>\n",
       "    </tr>\n",
       "    <tr>\n",
       "      <th>2</th>\n",
       "      <td>-0.063760</td>\n",
       "      <td>0.00</td>\n",
       "      <td>0.242302</td>\n",
       "      <td>0</td>\n",
       "      <td>0.172840</td>\n",
       "      <td>1.323171</td>\n",
       "      <td>0.599382</td>\n",
       "      <td>0.569789</td>\n",
       "      <td>0.104962</td>\n",
       "      <td>-0.446429</td>\n",
       "      <td>...</td>\n",
       "      <td>34.7</td>\n",
       "      <td>0</td>\n",
       "      <td>1</td>\n",
       "      <td>0</td>\n",
       "      <td>0</td>\n",
       "      <td>0</td>\n",
       "      <td>0</td>\n",
       "      <td>0</td>\n",
       "      <td>0</td>\n",
       "      <td>0</td>\n",
       "    </tr>\n",
       "    <tr>\n",
       "      <th>3</th>\n",
       "      <td>-0.062347</td>\n",
       "      <td>0.00</td>\n",
       "      <td>0.063050</td>\n",
       "      <td>0</td>\n",
       "      <td>0.150206</td>\n",
       "      <td>1.069783</td>\n",
       "      <td>0.441813</td>\n",
       "      <td>0.924391</td>\n",
       "      <td>0.066794</td>\n",
       "      <td>-0.125000</td>\n",
       "      <td>...</td>\n",
       "      <td>33.4</td>\n",
       "      <td>0</td>\n",
       "      <td>0</td>\n",
       "      <td>1</td>\n",
       "      <td>0</td>\n",
       "      <td>0</td>\n",
       "      <td>0</td>\n",
       "      <td>0</td>\n",
       "      <td>0</td>\n",
       "      <td>0</td>\n",
       "    </tr>\n",
       "    <tr>\n",
       "      <th>4</th>\n",
       "      <td>-0.052144</td>\n",
       "      <td>0.00</td>\n",
       "      <td>0.063050</td>\n",
       "      <td>0</td>\n",
       "      <td>0.150206</td>\n",
       "      <td>1.271680</td>\n",
       "      <td>0.528321</td>\n",
       "      <td>0.924391</td>\n",
       "      <td>0.066794</td>\n",
       "      <td>-0.125000</td>\n",
       "      <td>...</td>\n",
       "      <td>36.2</td>\n",
       "      <td>0</td>\n",
       "      <td>0</td>\n",
       "      <td>1</td>\n",
       "      <td>0</td>\n",
       "      <td>0</td>\n",
       "      <td>0</td>\n",
       "      <td>0</td>\n",
       "      <td>0</td>\n",
       "      <td>0</td>\n",
       "    </tr>\n",
       "    <tr>\n",
       "      <th>...</th>\n",
       "      <td>...</td>\n",
       "      <td>...</td>\n",
       "      <td>...</td>\n",
       "      <td>...</td>\n",
       "      <td>...</td>\n",
       "      <td>...</td>\n",
       "      <td>...</td>\n",
       "      <td>...</td>\n",
       "      <td>...</td>\n",
       "      <td>...</td>\n",
       "      <td>...</td>\n",
       "      <td>...</td>\n",
       "      <td>...</td>\n",
       "      <td>...</td>\n",
       "      <td>...</td>\n",
       "      <td>...</td>\n",
       "      <td>...</td>\n",
       "      <td>...</td>\n",
       "      <td>...</td>\n",
       "      <td>...</td>\n",
       "      <td>...</td>\n",
       "    </tr>\n",
       "    <tr>\n",
       "      <th>501</th>\n",
       "      <td>-0.053930</td>\n",
       "      <td>0.00</td>\n",
       "      <td>0.420455</td>\n",
       "      <td>0</td>\n",
       "      <td>0.386831</td>\n",
       "      <td>0.521003</td>\n",
       "      <td>0.681771</td>\n",
       "      <td>-0.236007</td>\n",
       "      <td>0.164122</td>\n",
       "      <td>0.696429</td>\n",
       "      <td>...</td>\n",
       "      <td>22.4</td>\n",
       "      <td>1</td>\n",
       "      <td>0</td>\n",
       "      <td>0</td>\n",
       "      <td>0</td>\n",
       "      <td>0</td>\n",
       "      <td>0</td>\n",
       "      <td>0</td>\n",
       "      <td>0</td>\n",
       "      <td>0</td>\n",
       "    </tr>\n",
       "    <tr>\n",
       "      <th>502</th>\n",
       "      <td>-0.058759</td>\n",
       "      <td>0.00</td>\n",
       "      <td>0.420455</td>\n",
       "      <td>0</td>\n",
       "      <td>0.386831</td>\n",
       "      <td>-0.119919</td>\n",
       "      <td>0.760041</td>\n",
       "      <td>-0.297887</td>\n",
       "      <td>0.164122</td>\n",
       "      <td>0.696429</td>\n",
       "      <td>...</td>\n",
       "      <td>20.6</td>\n",
       "      <td>1</td>\n",
       "      <td>0</td>\n",
       "      <td>0</td>\n",
       "      <td>0</td>\n",
       "      <td>0</td>\n",
       "      <td>0</td>\n",
       "      <td>0</td>\n",
       "      <td>0</td>\n",
       "      <td>0</td>\n",
       "    </tr>\n",
       "    <tr>\n",
       "      <th>503</th>\n",
       "      <td>-0.054450</td>\n",
       "      <td>0.00</td>\n",
       "      <td>0.420455</td>\n",
       "      <td>0</td>\n",
       "      <td>0.386831</td>\n",
       "      <td>1.039973</td>\n",
       "      <td>0.907312</td>\n",
       "      <td>-0.336744</td>\n",
       "      <td>0.164122</td>\n",
       "      <td>0.696429</td>\n",
       "      <td>...</td>\n",
       "      <td>23.9</td>\n",
       "      <td>1</td>\n",
       "      <td>0</td>\n",
       "      <td>0</td>\n",
       "      <td>0</td>\n",
       "      <td>0</td>\n",
       "      <td>0</td>\n",
       "      <td>0</td>\n",
       "      <td>0</td>\n",
       "      <td>0</td>\n",
       "    </tr>\n",
       "    <tr>\n",
       "      <th>504</th>\n",
       "      <td>-0.040867</td>\n",
       "      <td>0.00</td>\n",
       "      <td>0.420455</td>\n",
       "      <td>0</td>\n",
       "      <td>0.386831</td>\n",
       "      <td>0.793360</td>\n",
       "      <td>0.889804</td>\n",
       "      <td>-0.265053</td>\n",
       "      <td>0.164122</td>\n",
       "      <td>0.696429</td>\n",
       "      <td>...</td>\n",
       "      <td>22.0</td>\n",
       "      <td>1</td>\n",
       "      <td>0</td>\n",
       "      <td>0</td>\n",
       "      <td>0</td>\n",
       "      <td>0</td>\n",
       "      <td>0</td>\n",
       "      <td>0</td>\n",
       "      <td>0</td>\n",
       "      <td>0</td>\n",
       "    </tr>\n",
       "    <tr>\n",
       "      <th>505</th>\n",
       "      <td>-0.058164</td>\n",
       "      <td>0.00</td>\n",
       "      <td>0.420455</td>\n",
       "      <td>0</td>\n",
       "      <td>0.386831</td>\n",
       "      <td>-0.241870</td>\n",
       "      <td>0.802266</td>\n",
       "      <td>-0.227459</td>\n",
       "      <td>0.164122</td>\n",
       "      <td>0.696429</td>\n",
       "      <td>...</td>\n",
       "      <td>11.9</td>\n",
       "      <td>1</td>\n",
       "      <td>0</td>\n",
       "      <td>0</td>\n",
       "      <td>0</td>\n",
       "      <td>0</td>\n",
       "      <td>0</td>\n",
       "      <td>0</td>\n",
       "      <td>0</td>\n",
       "      <td>0</td>\n",
       "    </tr>\n",
       "  </tbody>\n",
       "</table>\n",
       "<p>506 rows × 22 columns</p>\n",
       "</div>"
      ],
      "text/plain": [
       "         CRIM    ZN     INDUS  CHAS       NOX        RM       AGE       DIS  \\\n",
       "0   -0.069593  1.44  0.067815     0  0.314815  0.496612  0.641607  0.285777   \n",
       "1   -0.063755  0.00  0.242302     0  0.172840  0.287940  0.782698  0.569789   \n",
       "2   -0.063760  0.00  0.242302     0  0.172840  1.323171  0.599382  0.569789   \n",
       "3   -0.062347  0.00  0.063050     0  0.150206  1.069783  0.441813  0.924391   \n",
       "4   -0.052144  0.00  0.063050     0  0.150206  1.271680  0.528321  0.924391   \n",
       "..        ...   ...       ...   ...       ...       ...       ...       ...   \n",
       "501 -0.053930  0.00  0.420455     0  0.386831  0.521003  0.681771 -0.236007   \n",
       "502 -0.058759  0.00  0.420455     0  0.386831 -0.119919  0.760041 -0.297887   \n",
       "503 -0.054450  0.00  0.420455     0  0.386831  1.039973  0.907312 -0.336744   \n",
       "504 -0.040867  0.00  0.420455     0  0.386831  0.793360  0.889804 -0.265053   \n",
       "505 -0.058164  0.00  0.420455     0  0.386831 -0.241870  0.802266 -0.227459   \n",
       "\n",
       "          TAX   PTRATIO  ...  MEDV  RAD_1  RAD_2  RAD_3  RAD_4  RAD_5  RAD_6  \\\n",
       "0    0.208015 -1.339286  ...  24.0      1      0      0      0      0      0   \n",
       "1    0.104962 -0.446429  ...  21.6      0      1      0      0      0      0   \n",
       "2    0.104962 -0.446429  ...  34.7      0      1      0      0      0      0   \n",
       "3    0.066794 -0.125000  ...  33.4      0      0      1      0      0      0   \n",
       "4    0.066794 -0.125000  ...  36.2      0      0      1      0      0      0   \n",
       "..        ...       ...  ...   ...    ...    ...    ...    ...    ...    ...   \n",
       "501  0.164122  0.696429  ...  22.4      1      0      0      0      0      0   \n",
       "502  0.164122  0.696429  ...  20.6      1      0      0      0      0      0   \n",
       "503  0.164122  0.696429  ...  23.9      1      0      0      0      0      0   \n",
       "504  0.164122  0.696429  ...  22.0      1      0      0      0      0      0   \n",
       "505  0.164122  0.696429  ...  11.9      1      0      0      0      0      0   \n",
       "\n",
       "     RAD_7  RAD_8  RAD_24  \n",
       "0        0      0       0  \n",
       "1        0      0       0  \n",
       "2        0      0       0  \n",
       "3        0      0       0  \n",
       "4        0      0       0  \n",
       "..     ...    ...     ...  \n",
       "501      0      0       0  \n",
       "502      0      0       0  \n",
       "503      0      0       0  \n",
       "504      0      0       0  \n",
       "505      0      0       0  \n",
       "\n",
       "[506 rows x 22 columns]"
      ]
     },
     "execution_count": 12,
     "metadata": {},
     "output_type": "execute_result"
    }
   ],
   "source": [
    "from sklearn import preprocessing\n",
    "from sklearn.preprocessing import MinMaxScaler, RobustScaler\n",
    "\n",
    "columnsNorm = ['INDUS', 'NOX', 'AGE', 'TAX']\n",
    "scaler = preprocessing.MinMaxScaler().fit(df_copy[columnsNorm])\n",
    "df_copy[columnsNorm] = scaler.transform(df_copy[columnsNorm])\n",
    "\n",
    "columnsRobust = ['CRIM', 'ZN', 'RM', 'DIS', 'PTRATIO' ,'B', 'LSTAT']\n",
    "scaler = preprocessing.RobustScaler().fit(df_copy[columnsRobust])\n",
    "df_copy[columnsRobust] = scaler.transform(df_copy[columnsRobust])\n",
    "\n",
    "df_copy"
   ]
  },
  {
   "cell_type": "markdown",
   "id": "0a23a5be",
   "metadata": {},
   "source": [
    "# Exercici 1\n",
    "### Crea almenys dos models de regressió diferents per intentar predir el millor possible el preu de les vivendes (MEDV) de l'arxiu adjunt."
   ]
  },
  {
   "cell_type": "markdown",
   "id": "f19a99ab",
   "metadata": {},
   "source": [
    "#### Train/Test\n",
    "\n",
    "Procedirem a dividir la data en Train/Test. Utilitzarem un 75% de les dades per Train i un 25% per Test."
   ]
  },
  {
   "cell_type": "code",
   "execution_count": 13,
   "id": "f71bed11",
   "metadata": {
    "scrolled": true
   },
   "outputs": [
    {
     "name": "stdout",
     "output_type": "stream",
     "text": [
      "Dimensions del conjunt d'entrenament:\n",
      "X_train: (379, 21)\n",
      "y_train: (379,)\n",
      "Dimensions del conjunt de test:\n",
      "X_test: (127, 21)\n",
      "y_test: (127,)\n"
     ]
    }
   ],
   "source": [
    "from sklearn.model_selection import train_test_split\n",
    "\n",
    "X = df_copy.drop(['MEDV'], axis=1)\n",
    "y = df_copy['MEDV']\n",
    "\n",
    "X_train, X_test, y_train, y_test = train_test_split(X, y, test_size=0.25, random_state=41)\n",
    "\n",
    "print('Dimensions del conjunt d\\'entrenament:')\n",
    "print(\"X_train:\", X_train.shape)\n",
    "print(\"y_train:\", y_train.shape)\n",
    "print('Dimensions del conjunt de test:')\n",
    "print(\"X_test:\", X_test.shape)\n",
    "print(\"y_test:\", y_test.shape)"
   ]
  },
  {
   "cell_type": "markdown",
   "id": "2b34248e",
   "metadata": {},
   "source": [
    "#### Entrenament del model de Linear Regression"
   ]
  },
  {
   "cell_type": "code",
   "execution_count": 14,
   "id": "505f9f0d",
   "metadata": {},
   "outputs": [
    {
     "name": "stdout",
     "output_type": "stream",
     "text": [
      "Predicció amb Linear Regression: [35.47907334 23.86649482 12.58852783 32.60367483 30.11479168]\n"
     ]
    }
   ],
   "source": [
    "from sklearn.linear_model import LinearRegression\n",
    "\n",
    "lr = LinearRegression()\n",
    "lr.fit(X_train, y_train)\n",
    "y_pred_lr = lr.predict(X_test)\n",
    "\n",
    "print('Predicció amb Linear Regression:', y_pred_lr[:5])"
   ]
  },
  {
   "cell_type": "markdown",
   "id": "f819498e",
   "metadata": {},
   "source": [
    "#### Entrenament del model de Support Vector Regression"
   ]
  },
  {
   "cell_type": "code",
   "execution_count": 15,
   "id": "4f30bd52",
   "metadata": {},
   "outputs": [
    {
     "name": "stdout",
     "output_type": "stream",
     "text": [
      "Predicció amb Support Vector Regression: [28.21514957 19.2056893  17.70277935 30.34062465 29.80762307]\n"
     ]
    }
   ],
   "source": [
    "from sklearn.svm import SVR\n",
    "\n",
    "svr = SVR()\n",
    "svr.fit(X_train, y_train)\n",
    "y_pred_svr = svr.predict(X_test)\n",
    "\n",
    "print('Predicció amb Support Vector Regression:', y_pred_svr[:5])"
   ]
  },
  {
   "cell_type": "markdown",
   "id": "db44b024",
   "metadata": {},
   "source": [
    "# Exercici 2\n",
    "### Compara’ls en base al MSE i al R2."
   ]
  },
  {
   "cell_type": "markdown",
   "id": "69942f7b",
   "metadata": {},
   "source": [
    "#### MSE"
   ]
  },
  {
   "cell_type": "code",
   "execution_count": 16,
   "id": "538ca6f8",
   "metadata": {},
   "outputs": [],
   "source": [
    "from sklearn.metrics import mean_squared_error\n",
    "\n",
    "mse_lr = mean_squared_error(y_test, y_pred_lr)\n",
    "mse_svr = mean_squared_error(y_test, y_pred_svr)"
   ]
  },
  {
   "cell_type": "markdown",
   "id": "b13d30e0",
   "metadata": {},
   "source": [
    "#### R2"
   ]
  },
  {
   "cell_type": "code",
   "execution_count": 17,
   "id": "3b5d11e4",
   "metadata": {},
   "outputs": [],
   "source": [
    "from sklearn.metrics import r2_score\n",
    "\n",
    "r2_lr = r2_score(y_test, y_pred_lr)\n",
    "r2_svr = r2_score(y_test, y_pred_svr)"
   ]
  },
  {
   "cell_type": "markdown",
   "id": "67567891",
   "metadata": {},
   "source": [
    "#### Fem un dataframe per comparar"
   ]
  },
  {
   "cell_type": "code",
   "execution_count": 18,
   "id": "bbbb4770",
   "metadata": {},
   "outputs": [
    {
     "data": {
      "text/html": [
       "<div>\n",
       "<style scoped>\n",
       "    .dataframe tbody tr th:only-of-type {\n",
       "        vertical-align: middle;\n",
       "    }\n",
       "\n",
       "    .dataframe tbody tr th {\n",
       "        vertical-align: top;\n",
       "    }\n",
       "\n",
       "    .dataframe thead th {\n",
       "        text-align: right;\n",
       "    }\n",
       "</style>\n",
       "<table border=\"1\" class=\"dataframe\">\n",
       "  <thead>\n",
       "    <tr style=\"text-align: right;\">\n",
       "      <th></th>\n",
       "      <th>Model</th>\n",
       "      <th>R2</th>\n",
       "      <th>MSE</th>\n",
       "    </tr>\n",
       "  </thead>\n",
       "  <tbody>\n",
       "    <tr>\n",
       "      <th>0</th>\n",
       "      <td>Linear Regression</td>\n",
       "      <td>0.53</td>\n",
       "      <td>22.12</td>\n",
       "    </tr>\n",
       "    <tr>\n",
       "      <th>1</th>\n",
       "      <td>Support Vector Regression</td>\n",
       "      <td>0.64</td>\n",
       "      <td>16.75</td>\n",
       "    </tr>\n",
       "  </tbody>\n",
       "</table>\n",
       "</div>"
      ],
      "text/plain": [
       "                       Model    R2    MSE\n",
       "0          Linear Regression  0.53  22.12\n",
       "1  Support Vector Regression  0.64  16.75"
      ]
     },
     "execution_count": 18,
     "metadata": {},
     "output_type": "execute_result"
    }
   ],
   "source": [
    "metrics = pd.DataFrame(data=[['Linear Regression', r2_lr, mse_lr], \n",
    "                             ['Support Vector Regression', r2_svr, mse_svr]],\n",
    "                       columns=['Model', 'R2', 'MSE'])\n",
    "\n",
    "metrics = metrics.round(decimals=2)\n",
    "metrics.head()"
   ]
  },
  {
   "cell_type": "markdown",
   "id": "1e8951b4",
   "metadata": {},
   "source": [
    "Veiem que tant amb la mètrica R2 com amb la MSE, el model de SVM obté millor rendiment que el de LR.\n",
    "\n",
    "En general, es cerca un valor de R2 proper a 1 i un valor de MSE proper a 0 per a un millor rendiment del model."
   ]
  },
  {
   "cell_type": "markdown",
   "id": "f70a8fa6",
   "metadata": {},
   "source": [
    "# Exercici 3\n",
    "### Entrena’ls utilitzant els diferents paràmetres que admeten per intentar millorar-ne la predicció."
   ]
  },
  {
   "cell_type": "markdown",
   "id": "3b350d0e",
   "metadata": {},
   "source": [
    "#### Linear Regression"
   ]
  },
  {
   "cell_type": "code",
   "execution_count": 19,
   "id": "c4095f1d",
   "metadata": {},
   "outputs": [
    {
     "name": "stdout",
     "output_type": "stream",
     "text": [
      "{'copy_X': True, 'fit_intercept': True, 'n_jobs': None, 'positive': False}\n"
     ]
    }
   ],
   "source": [
    "# Mirem els hiperparàmetres\n",
    "\n",
    "print(lr.get_params())"
   ]
  },
  {
   "cell_type": "code",
   "execution_count": 20,
   "id": "a4c9cd53",
   "metadata": {},
   "outputs": [
    {
     "name": "stdout",
     "output_type": "stream",
     "text": [
      "Millors hiperparàmetres: {'copy_X': True, 'fit_intercept': False, 'n_jobs': -1, 'positive': False}\n"
     ]
    }
   ],
   "source": [
    "# Com que el dataframe no és gran, utilitzarem GridSearchCV per a obtenir els millors valors dels hiperparàmetres\n",
    "\n",
    "from sklearn.model_selection import GridSearchCV\n",
    "\n",
    "# Creem diccionari amb els hiperparàmetres\n",
    "\n",
    "param_lr = {'copy_X': [True, False],\n",
    "            'fit_intercept': [True, False],\n",
    "            'n_jobs': [-1, None, 1],\n",
    "            'positive': [True, False]}\n",
    "\n",
    "# Busquem els millors valors\n",
    "\n",
    "grid_lr = GridSearchCV(estimator=lr, param_grid=param_lr)\n",
    "\n",
    "grid_lr.fit(X_train, y_train)\n",
    "\n",
    "print(\"Millors hiperparàmetres:\", grid_lr.best_params_)"
   ]
  },
  {
   "cell_type": "markdown",
   "id": "6a46df70",
   "metadata": {},
   "source": [
    "Ens diu que hem de canviar els valors de 'fit_intercept' i 'n_jobs'."
   ]
  },
  {
   "cell_type": "code",
   "execution_count": 21,
   "id": "cf2cbe1c",
   "metadata": {},
   "outputs": [
    {
     "name": "stdout",
     "output_type": "stream",
     "text": [
      "R2 millorat =  0.53\n",
      "MSE millorat =  22.12\n"
     ]
    }
   ],
   "source": [
    "lr_best = LinearRegression(fit_intercept=False, n_jobs=-1).fit(X_train, y_train)\n",
    "\n",
    "y_pred_lr_best = lr_best.predict(X_test)\n",
    "\n",
    "\n",
    "# R2 millorat\n",
    "\n",
    "r2_lr_best = r2_score(y_test, y_pred_lr_best)\n",
    "print('R2 millorat = ', round(r2_lr_best, 2))\n",
    "\n",
    "# MSE millorat\n",
    "\n",
    "mse_lr_best = mean_squared_error(y_test, y_pred_lr_best)\n",
    "print('MSE millorat = ', round(mse_lr_best, 2))"
   ]
  },
  {
   "cell_type": "markdown",
   "id": "ac449a1e",
   "metadata": {},
   "source": [
    "#### Support Vector Regression"
   ]
  },
  {
   "cell_type": "code",
   "execution_count": 22,
   "id": "863e92a7",
   "metadata": {},
   "outputs": [
    {
     "name": "stdout",
     "output_type": "stream",
     "text": [
      "{'C': 1.0, 'cache_size': 200, 'coef0': 0.0, 'degree': 3, 'epsilon': 0.1, 'gamma': 'scale', 'kernel': 'rbf', 'max_iter': -1, 'shrinking': True, 'tol': 0.001, 'verbose': False}\n"
     ]
    }
   ],
   "source": [
    "# Mirem els hiperparàmetres\n",
    "\n",
    "print(svr.get_params())"
   ]
  },
  {
   "cell_type": "code",
   "execution_count": 23,
   "id": "729cb39c",
   "metadata": {},
   "outputs": [
    {
     "name": "stdout",
     "output_type": "stream",
     "text": [
      "Millors hiperparàmetres: {'C': 10, 'coef0': 0.01, 'degree': 3, 'epsilon': 0.5, 'gamma': 'auto', 'kernel': 'rbf'}\n"
     ]
    }
   ],
   "source": [
    "param_svr = {'kernel': ('rbf', 'linear', 'rbf', 'sigmoid'),\n",
    "             'degree': [3, 6, 9], \n",
    "             'gamma': ('scale', 'auto'),\n",
    "             'coef0': [0.01, 0.5, 1],  \n",
    "             'C': [1, 5, 10],\n",
    "             'epsilon': [0.1, 0.2, 0.5]}\n",
    "                \n",
    "# Busquem els millors valors\n",
    "\n",
    "grid_svr = GridSearchCV(estimator=svr, param_grid=param_svr)\n",
    "\n",
    "grid_svr.fit(X_train, y_train)\n",
    "\n",
    "print(\"Millors hiperparàmetres:\", grid_svr.best_params_)"
   ]
  },
  {
   "cell_type": "markdown",
   "id": "df03c762",
   "metadata": {},
   "source": [
    "Ens diu que hem de canviar els valors de 'C', 'coef0', 'epsilon' i 'gamma'."
   ]
  },
  {
   "cell_type": "code",
   "execution_count": 24,
   "id": "988fc930",
   "metadata": {},
   "outputs": [
    {
     "name": "stdout",
     "output_type": "stream",
     "text": [
      "R2 millorat =  0.7\n",
      "MSE millorat =  13.93\n"
     ]
    }
   ],
   "source": [
    "svr_best = SVR(C=10, coef0=0.01, degree=3, epsilon=0.5, gamma='auto', kernel='rbf').fit(X_train, y_train)\n",
    "\n",
    "y_pred_svr_best = svr_best.predict(X_test)\n",
    "\n",
    "# R2 millorat\n",
    "\n",
    "r2_svr_best = r2_score(y_test, y_pred_svr_best)\n",
    "print('R2 millorat = ', round(r2_svr_best, 2))\n",
    "\n",
    "# MSE millorat\n",
    "\n",
    "mse_svr_best = mean_squared_error(y_test, y_pred_svr_best)\n",
    "print('MSE millorat = ', round(mse_svr_best, 2))"
   ]
  },
  {
   "cell_type": "markdown",
   "id": "5db44f3d",
   "metadata": {},
   "source": [
    "Fem un dataframe per comparar."
   ]
  },
  {
   "cell_type": "code",
   "execution_count": 25,
   "id": "0831ab44",
   "metadata": {},
   "outputs": [
    {
     "data": {
      "text/html": [
       "<div>\n",
       "<style scoped>\n",
       "    .dataframe tbody tr th:only-of-type {\n",
       "        vertical-align: middle;\n",
       "    }\n",
       "\n",
       "    .dataframe tbody tr th {\n",
       "        vertical-align: top;\n",
       "    }\n",
       "\n",
       "    .dataframe thead th {\n",
       "        text-align: right;\n",
       "    }\n",
       "</style>\n",
       "<table border=\"1\" class=\"dataframe\">\n",
       "  <thead>\n",
       "    <tr style=\"text-align: right;\">\n",
       "      <th></th>\n",
       "      <th>Model</th>\n",
       "      <th>R2</th>\n",
       "      <th>MSE</th>\n",
       "    </tr>\n",
       "  </thead>\n",
       "  <tbody>\n",
       "    <tr>\n",
       "      <th>0</th>\n",
       "      <td>Best Linear Regression</td>\n",
       "      <td>0.53</td>\n",
       "      <td>22.12</td>\n",
       "    </tr>\n",
       "    <tr>\n",
       "      <th>1</th>\n",
       "      <td>Best Support Vector Regression</td>\n",
       "      <td>0.70</td>\n",
       "      <td>13.93</td>\n",
       "    </tr>\n",
       "  </tbody>\n",
       "</table>\n",
       "</div>"
      ],
      "text/plain": [
       "                            Model    R2    MSE\n",
       "0          Best Linear Regression  0.53  22.12\n",
       "1  Best Support Vector Regression  0.70  13.93"
      ]
     },
     "execution_count": 25,
     "metadata": {},
     "output_type": "execute_result"
    }
   ],
   "source": [
    "best_metrics = pd.DataFrame(data=[['Best Linear Regression', r2_lr_best, mse_lr_best], \n",
    "                                  ['Best Support Vector Regression', r2_svr_best, mse_svr_best]],\n",
    "                            columns=['Model', 'R2', 'MSE'])\n",
    "\n",
    "best_metrics = best_metrics.round(decimals=2)\n",
    "best_metrics.head()"
   ]
  },
  {
   "cell_type": "markdown",
   "id": "ff328148",
   "metadata": {},
   "source": [
    "Fusionem els dos dataframes."
   ]
  },
  {
   "cell_type": "code",
   "execution_count": 26,
   "id": "7d305557",
   "metadata": {},
   "outputs": [
    {
     "data": {
      "text/html": [
       "<div>\n",
       "<style scoped>\n",
       "    .dataframe tbody tr th:only-of-type {\n",
       "        vertical-align: middle;\n",
       "    }\n",
       "\n",
       "    .dataframe tbody tr th {\n",
       "        vertical-align: top;\n",
       "    }\n",
       "\n",
       "    .dataframe thead th {\n",
       "        text-align: right;\n",
       "    }\n",
       "</style>\n",
       "<table border=\"1\" class=\"dataframe\">\n",
       "  <thead>\n",
       "    <tr style=\"text-align: right;\">\n",
       "      <th></th>\n",
       "      <th>Model</th>\n",
       "      <th>R2</th>\n",
       "      <th>MSE</th>\n",
       "    </tr>\n",
       "  </thead>\n",
       "  <tbody>\n",
       "    <tr>\n",
       "      <th>0</th>\n",
       "      <td>Linear Regression</td>\n",
       "      <td>0.53</td>\n",
       "      <td>22.12</td>\n",
       "    </tr>\n",
       "    <tr>\n",
       "      <th>1</th>\n",
       "      <td>Support Vector Regression</td>\n",
       "      <td>0.64</td>\n",
       "      <td>16.75</td>\n",
       "    </tr>\n",
       "    <tr>\n",
       "      <th>2</th>\n",
       "      <td>Best Linear Regression</td>\n",
       "      <td>0.53</td>\n",
       "      <td>22.12</td>\n",
       "    </tr>\n",
       "    <tr>\n",
       "      <th>3</th>\n",
       "      <td>Best Support Vector Regression</td>\n",
       "      <td>0.70</td>\n",
       "      <td>13.93</td>\n",
       "    </tr>\n",
       "  </tbody>\n",
       "</table>\n",
       "</div>"
      ],
      "text/plain": [
       "                            Model    R2    MSE\n",
       "0               Linear Regression  0.53  22.12\n",
       "1       Support Vector Regression  0.64  16.75\n",
       "2          Best Linear Regression  0.53  22.12\n",
       "3  Best Support Vector Regression  0.70  13.93"
      ]
     },
     "execution_count": 26,
     "metadata": {},
     "output_type": "execute_result"
    }
   ],
   "source": [
    "merged_metrics = pd.concat([metrics, best_metrics], ignore_index=True)\n",
    "\n",
    "merged_metrics.head()"
   ]
  },
  {
   "cell_type": "markdown",
   "id": "07c4e343",
   "metadata": {},
   "source": [
    "Després de millorar els hiperparàmetres podem veure que el model de Linear Regression s'ha quedat exactament igual. En canvi, el de SVR ha millorat lleugerament tant l'R2 (de 0.64 a 0.70) com també l'MSE (de 16.75 a 13.93)."
   ]
  },
  {
   "cell_type": "markdown",
   "id": "d4ac45a0",
   "metadata": {},
   "source": [
    "# Exercici 4\n",
    "### Compara el seu rendiment emprant l’aproximació traint/test o emprant totes les dades (validació interna)."
   ]
  },
  {
   "cell_type": "markdown",
   "id": "dc6ca886",
   "metadata": {},
   "source": [
    "#### Validació interna del model Linear Regression"
   ]
  },
  {
   "cell_type": "code",
   "execution_count": 27,
   "id": "bda370e5",
   "metadata": {},
   "outputs": [
    {
     "name": "stdout",
     "output_type": "stream",
     "text": [
      "Promig del R2 fent CV al model Linear Regression 0.33\n",
      "Promig del MSE fent CV al model Linear Regression 37.89\n"
     ]
    }
   ],
   "source": [
    "from sklearn.model_selection import cross_val_score\n",
    "\n",
    "cv_lr_r2 = cross_val_score(LinearRegression(), X, y, cv=5, scoring='r2')\n",
    "cv_lr_mse = cross_val_score(LinearRegression(), X, y, cv=5, scoring='neg_mean_squared_error')\n",
    "\n",
    "promig_cv_lr_r2 = cv_lr_r2.mean()\n",
    "promig_cv_lr_mse = cv_lr_mse.mean()\n",
    "\n",
    "print('Promig del R2 fent CV al model Linear Regression', round(promig_cv_lr_r2, 2))\n",
    "print('Promig del MSE fent CV al model Linear Regression', round(-promig_cv_lr_mse, 2))"
   ]
  },
  {
   "cell_type": "markdown",
   "id": "9cc13011",
   "metadata": {},
   "source": [
    "#### Validació interna del model Support Vector Regression"
   ]
  },
  {
   "cell_type": "code",
   "execution_count": 28,
   "id": "c3b5e57f",
   "metadata": {},
   "outputs": [
    {
     "name": "stdout",
     "output_type": "stream",
     "text": [
      "Promig del R2 fent CV al model SVR 0.22\n",
      "Promig del MSE fent CV al model SVR 45.75\n"
     ]
    }
   ],
   "source": [
    "cv_svr_r2 = cross_val_score(SVR(), X, y, cv=5, scoring='r2')\n",
    "cv_svr_mse = cross_val_score(SVR(), X, y, cv=5, scoring='neg_mean_squared_error')\n",
    "\n",
    "promig_cv_svr_r2 = cv_svr_r2.mean()\n",
    "promig_cv_svr_mse = cv_svr_mse.mean()\n",
    "\n",
    "print('Promig del R2 fent CV al model SVR', round(promig_cv_svr_r2, 2))\n",
    "print('Promig del MSE fent CV al model SVR', round(-promig_cv_svr_mse, 2))"
   ]
  },
  {
   "cell_type": "code",
   "execution_count": 29,
   "id": "d5a733aa",
   "metadata": {},
   "outputs": [
    {
     "data": {
      "text/html": [
       "<div>\n",
       "<style scoped>\n",
       "    .dataframe tbody tr th:only-of-type {\n",
       "        vertical-align: middle;\n",
       "    }\n",
       "\n",
       "    .dataframe tbody tr th {\n",
       "        vertical-align: top;\n",
       "    }\n",
       "\n",
       "    .dataframe thead th {\n",
       "        text-align: right;\n",
       "    }\n",
       "</style>\n",
       "<table border=\"1\" class=\"dataframe\">\n",
       "  <thead>\n",
       "    <tr style=\"text-align: right;\">\n",
       "      <th></th>\n",
       "      <th>Model</th>\n",
       "      <th>R2</th>\n",
       "      <th>MSE</th>\n",
       "      <th>R2 with CV</th>\n",
       "      <th>MSE with CV</th>\n",
       "    </tr>\n",
       "  </thead>\n",
       "  <tbody>\n",
       "    <tr>\n",
       "      <th>0</th>\n",
       "      <td>Linear Regression</td>\n",
       "      <td>0.53</td>\n",
       "      <td>22.12</td>\n",
       "      <td>0.33</td>\n",
       "      <td>37.89</td>\n",
       "    </tr>\n",
       "    <tr>\n",
       "      <th>1</th>\n",
       "      <td>Support Vector Machines</td>\n",
       "      <td>0.64</td>\n",
       "      <td>16.75</td>\n",
       "      <td>0.22</td>\n",
       "      <td>45.75</td>\n",
       "    </tr>\n",
       "  </tbody>\n",
       "</table>\n",
       "</div>"
      ],
      "text/plain": [
       "                     Model    R2    MSE  R2 with CV  MSE with CV\n",
       "0        Linear Regression  0.53  22.12        0.33        37.89\n",
       "1  Support Vector Machines  0.64  16.75        0.22        45.75"
      ]
     },
     "execution_count": 29,
     "metadata": {},
     "output_type": "execute_result"
    }
   ],
   "source": [
    "CV_metrics = pd.DataFrame(data=[['Linear Regression', r2_lr, mse_lr, promig_cv_lr_r2, -promig_cv_lr_mse],\n",
    "                                ['Support Vector Machines', r2_svr, mse_svr, promig_cv_svr_r2, -promig_cv_svr_mse]],\n",
    "                          columns=['Model', 'R2', 'MSE', 'R2 with CV', 'MSE with CV'])\n",
    "\n",
    "CV_metrics = CV_metrics.round(decimals=2)\n",
    "CV_metrics.head()"
   ]
  },
  {
   "cell_type": "markdown",
   "id": "4cd1614e",
   "metadata": {},
   "source": [
    "Com podem veure, la cross-validation ha empitjorat els resultats en tots els casos."
   ]
  },
  {
   "cell_type": "markdown",
   "id": "483d7ad6",
   "metadata": {},
   "source": [
    "# Exercici 5\n",
    "### No facis servir la variable del nombre d'habitacions (RM) a l’hora de fer prediccions."
   ]
  },
  {
   "cell_type": "code",
   "execution_count": 30,
   "id": "2576af9c",
   "metadata": {},
   "outputs": [
    {
     "name": "stdout",
     "output_type": "stream",
     "text": [
      "Dimensions del conjunt d'entrenament:\n",
      "X_train: (379, 20)\n",
      "y_train: (379,)\n",
      "Dimensions del conjunt de test:\n",
      "X_test: (127, 20)\n",
      "y_test: (127,)\n"
     ]
    }
   ],
   "source": [
    "# Train/Test sense la variable RM\n",
    "\n",
    "X_no_rm = df_copy.drop(['MEDV','RM'], axis=1)\n",
    "y_no_rm = df_copy['MEDV']\n",
    "\n",
    "X_train_no_rm, X_test_no_rm, y_train_no_rm, y_test_no_rm = train_test_split(X_no_rm, y_no_rm, test_size=0.25, random_state=38)\n",
    "\n",
    "print('Dimensions del conjunt d\\'entrenament:')\n",
    "print(\"X_train:\", X_train_no_rm.shape)\n",
    "print(\"y_train:\", y_train_no_rm.shape)\n",
    "print('Dimensions del conjunt de test:')\n",
    "print(\"X_test:\", X_test_no_rm.shape)\n",
    "print(\"y_test:\", y_test_no_rm.shape)"
   ]
  },
  {
   "cell_type": "code",
   "execution_count": 31,
   "id": "b30f80f9",
   "metadata": {},
   "outputs": [
    {
     "name": "stdout",
     "output_type": "stream",
     "text": [
      "Predicció amb Linear Regression: [16.3907119  19.63017623 22.99620586 31.71110815 19.59912746]\n"
     ]
    }
   ],
   "source": [
    "# Entrenament del model LR\n",
    "\n",
    "lr_no_rm = LinearRegression()\n",
    "lr_no_rm.fit(X_train_no_rm, y_train_no_rm)\n",
    "y_pred_lr_no_rm = lr_no_rm.predict(X_test_no_rm)\n",
    "\n",
    "print('Predicció amb Linear Regression:', y_pred_lr_no_rm[:5])"
   ]
  },
  {
   "cell_type": "code",
   "execution_count": 32,
   "id": "259ab6c8",
   "metadata": {},
   "outputs": [
    {
     "name": "stdout",
     "output_type": "stream",
     "text": [
      "Predicció amb Support Vector Regression: [18.50995082 19.60799217 22.21023073 25.80312743 18.7757159 ]\n"
     ]
    }
   ],
   "source": [
    "# Entrenament del model SVR\n",
    "\n",
    "svr_no_rm = SVR()\n",
    "svr_no_rm.fit(X_train_no_rm, y_train_no_rm)\n",
    "y_pred_svr_no_rm = svr_no_rm.predict(X_test_no_rm)\n",
    "\n",
    "print('Predicció amb Support Vector Regression:', y_pred_svr_no_rm[:5])"
   ]
  },
  {
   "cell_type": "code",
   "execution_count": 33,
   "id": "4ef18276",
   "metadata": {},
   "outputs": [],
   "source": [
    "# MSE\n",
    "\n",
    "mse_lr_no_rm = mean_squared_error(y_test_no_rm, y_pred_lr_no_rm)\n",
    "mse_svr_no_rm = mean_squared_error(y_test_no_rm, y_pred_svr_no_rm)"
   ]
  },
  {
   "cell_type": "code",
   "execution_count": 34,
   "id": "00c7b409",
   "metadata": {},
   "outputs": [],
   "source": [
    "# R2\n",
    "\n",
    "r2_lr_no_rm = r2_score(y_test_no_rm, y_pred_lr_no_rm)\n",
    "r2_svr_no_rm = r2_score(y_test_no_rm, y_pred_svr_no_rm)"
   ]
  },
  {
   "cell_type": "code",
   "execution_count": 35,
   "id": "faa08bc7",
   "metadata": {},
   "outputs": [
    {
     "data": {
      "text/html": [
       "<div>\n",
       "<style scoped>\n",
       "    .dataframe tbody tr th:only-of-type {\n",
       "        vertical-align: middle;\n",
       "    }\n",
       "\n",
       "    .dataframe tbody tr th {\n",
       "        vertical-align: top;\n",
       "    }\n",
       "\n",
       "    .dataframe thead th {\n",
       "        text-align: right;\n",
       "    }\n",
       "</style>\n",
       "<table border=\"1\" class=\"dataframe\">\n",
       "  <thead>\n",
       "    <tr style=\"text-align: right;\">\n",
       "      <th></th>\n",
       "      <th>Model</th>\n",
       "      <th>R2</th>\n",
       "      <th>MSE</th>\n",
       "    </tr>\n",
       "  </thead>\n",
       "  <tbody>\n",
       "    <tr>\n",
       "      <th>0</th>\n",
       "      <td>Linear Regression_no_rm</td>\n",
       "      <td>0.64</td>\n",
       "      <td>29.59</td>\n",
       "    </tr>\n",
       "    <tr>\n",
       "      <th>1</th>\n",
       "      <td>Support Vector Regression_no_rm</td>\n",
       "      <td>0.40</td>\n",
       "      <td>50.14</td>\n",
       "    </tr>\n",
       "  </tbody>\n",
       "</table>\n",
       "</div>"
      ],
      "text/plain": [
       "                             Model    R2    MSE\n",
       "0          Linear Regression_no_rm  0.64  29.59\n",
       "1  Support Vector Regression_no_rm  0.40  50.14"
      ]
     },
     "execution_count": 35,
     "metadata": {},
     "output_type": "execute_result"
    }
   ],
   "source": [
    "# Fem un dataframe amb els resultats\n",
    "\n",
    "metrics_no_rm = pd.DataFrame(data=[['Linear Regression_no_rm', r2_lr_no_rm, mse_lr_no_rm], \n",
    "                             ['Support Vector Regression_no_rm', r2_svr_no_rm, mse_svr_no_rm]],\n",
    "                             columns=['Model', 'R2', 'MSE'])\n",
    "\n",
    "metrics_no_rm = metrics_no_rm.round(decimals=2)\n",
    "metrics_no_rm.head()"
   ]
  },
  {
   "cell_type": "code",
   "execution_count": 36,
   "id": "990e4611",
   "metadata": {},
   "outputs": [
    {
     "data": {
      "text/html": [
       "<div>\n",
       "<style scoped>\n",
       "    .dataframe tbody tr th:only-of-type {\n",
       "        vertical-align: middle;\n",
       "    }\n",
       "\n",
       "    .dataframe tbody tr th {\n",
       "        vertical-align: top;\n",
       "    }\n",
       "\n",
       "    .dataframe thead th {\n",
       "        text-align: right;\n",
       "    }\n",
       "</style>\n",
       "<table border=\"1\" class=\"dataframe\">\n",
       "  <thead>\n",
       "    <tr style=\"text-align: right;\">\n",
       "      <th></th>\n",
       "      <th>Model</th>\n",
       "      <th>R2</th>\n",
       "      <th>MSE</th>\n",
       "    </tr>\n",
       "  </thead>\n",
       "  <tbody>\n",
       "    <tr>\n",
       "      <th>0</th>\n",
       "      <td>Linear Regression</td>\n",
       "      <td>0.53</td>\n",
       "      <td>22.12</td>\n",
       "    </tr>\n",
       "    <tr>\n",
       "      <th>1</th>\n",
       "      <td>Support Vector Regression</td>\n",
       "      <td>0.64</td>\n",
       "      <td>16.75</td>\n",
       "    </tr>\n",
       "    <tr>\n",
       "      <th>2</th>\n",
       "      <td>Linear Regression_no_rm</td>\n",
       "      <td>0.64</td>\n",
       "      <td>29.59</td>\n",
       "    </tr>\n",
       "    <tr>\n",
       "      <th>3</th>\n",
       "      <td>Support Vector Regression_no_rm</td>\n",
       "      <td>0.40</td>\n",
       "      <td>50.14</td>\n",
       "    </tr>\n",
       "  </tbody>\n",
       "</table>\n",
       "</div>"
      ],
      "text/plain": [
       "                             Model    R2    MSE\n",
       "0                Linear Regression  0.53  22.12\n",
       "1        Support Vector Regression  0.64  16.75\n",
       "2          Linear Regression_no_rm  0.64  29.59\n",
       "3  Support Vector Regression_no_rm  0.40  50.14"
      ]
     },
     "execution_count": 36,
     "metadata": {},
     "output_type": "execute_result"
    }
   ],
   "source": [
    "# El fusionem amb el dataframe dels resultats amb la variable RM\n",
    "\n",
    "merged_metrics_no_rm = pd.concat([metrics, metrics_no_rm], ignore_index=True)\n",
    "\n",
    "merged_metrics_no_rm.head()"
   ]
  },
  {
   "cell_type": "markdown",
   "id": "25467778",
   "metadata": {},
   "source": [
    "Al treure la variable RM, una variable amb alta correlació amb el target, ens trobem amb resultats oposats en el model LR (millora R2 però empitjora MSE) i amb resultats molt pitjors en el model SVR (l'R2 passa de 0.64 a 0.40 i l'MSE de 16.75 a 50.14)."
   ]
  }
 ],
 "metadata": {
  "kernelspec": {
   "display_name": "Python 3 (ipykernel)",
   "language": "python",
   "name": "python3"
  },
  "language_info": {
   "codemirror_mode": {
    "name": "ipython",
    "version": 3
   },
   "file_extension": ".py",
   "mimetype": "text/x-python",
   "name": "python",
   "nbconvert_exporter": "python",
   "pygments_lexer": "ipython3",
   "version": "3.10.9"
  }
 },
 "nbformat": 4,
 "nbformat_minor": 5
}
